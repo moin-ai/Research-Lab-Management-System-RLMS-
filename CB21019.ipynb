{
  "nbformat": 4,
  "nbformat_minor": 0,
  "metadata": {
    "colab": {
      "provenance": [],
      "authorship_tag": "ABX9TyPY9PhnepS1rBjjXrv05njX",
      "include_colab_link": true
    },
    "kernelspec": {
      "name": "python3",
      "display_name": "Python 3"
    },
    "language_info": {
      "name": "python"
    }
  },
  "cells": [
    {
      "cell_type": "markdown",
      "metadata": {
        "id": "view-in-github",
        "colab_type": "text"
      },
      "source": [
        "<a href=\"https://colab.research.google.com/github/moin-ai/Research-Lab-Management-System-RLMS-/blob/main/CB21019.ipynb\" target=\"_parent\"><img src=\"https://colab.research.google.com/assets/colab-badge.svg\" alt=\"Open In Colab\"/></a>"
      ]
    },
    {
      "cell_type": "code",
      "execution_count": null,
      "metadata": {
        "id": "F-q2QepeADS4"
      },
      "outputs": [],
      "source": [
        "import numpy as np\n",
        "import pandas as pd\n",
        "\n",
        "staff_planning = [\n",
        "                  [[0,8,8],[1,8,8],[2,8,8],[3,8,8],[4,8,8],[5,8,8],[6,8,8],[7,8,8],[8,8,8],[9,8,8],[10,8,8],[11,8,8],[12,8,8],[13,8,8],[14,8,8],[15,8,8],[16,8,8],[17,8,8],[18,8,8],[19,8,8],[20,8,8],[21,8,8],[22,8,8],[23,8,8],[24,8,8],[25,8,8],[26,8,8],[27,8,8],[28,8,8],[29,8,8]]\n",
        "                  [[0,8,8],[1,8,8],[2,8,8],[3,8,8],[4,8,8],[5,8,8],[6,8,8],[7,8,8],[8,8,8],[9,8,8],[10,8,8],[11,8,8],[12,8,8],[13,8,8],[14,8,8],[15,8,8],[16,8,8],[17,8,8],[18,8,8],[19,8,8],[20,8,8],[21,8,8],[22,8,8],[23,8,8],[24,8,8],[25,8,8],[26,8,8],[27,8,8],[28,8,8],[29,8,8]]\n",
        "                  [[0,8,8],[1,8,8],[2,8,8],[3,8,8],[4,8,8],[5,8,8],[6,8,8],[7,8,8],[8,8,8],[9,8,8],[10,8,8],[11,8,8],[12,8,8],[13,8,8],[14,8,8],[15,8,8],[16,8,8],[17,8,8],[18,8,8],[19,8,8],[20,8,8],[21,8,8],[22,8,8],[23,8,8],[24,8,8],[25,8,8],[26,8,8],[27,8,8],[28,8,8],[29,8,8]]\n",
        "                  [[0,8,8],[1,8,8],[2,8,8],[3,8,8],[4,8,8],[5,8,8],[6,8,8],[7,8,8],[8,8,8],[9,8,8],[10,8,8],[11,8,8],[12,8,8],[13,8,8],[14,8,8],[15,8,8],[16,8,8],[17,8,8],[18,8,8],[19,8,8],[20,8,8],[21,8,8],[22,8,8],[23,8,8],[24,8,8],[25,8,8],[26,8,8],[27,8,8],[28,8,8],[29,8,8]]\n",
        "                  [[0,8,8],[1,8,8],[2,8,8],[3,8,8],[4,8,8],[5,8,8],[6,8,8],[7,8,8],[8,8,8],[9,8,8],[10,8,8],[11,8,8],[12,8,8],[13,8,8],[14,8,8],[15,8,8],[16,8,8],[17,8,8],[18,8,8],[19,8,8],[20,8,8],[21,8,8],[22,8,8],[23,8,8],[24,8,8],[25,8,8],[26,8,8],[27,8,8],[28,8,8],[29,8,8]]\n",
        "                  ]\n",
        "\n",
        "hourlystaff_needed = np.array([\n",
        "                  [0,0,0,0,0,0,4,4,4,2,2,2,6,6,2,2,2,6,6,6,2,2,2],\n",
        "                  [0,0,0,0,0,0,4,4,4,2,2,2,6,6,2,2,2,6,6,6,2,2,2],\n",
        "                  [0,0,0,0,0,0,4,4,4,2,2,2,6,6,2,2,2,6,6,6,2,2,2],\n",
        "                  [0,0,0,0,0,0,4,4,4,2,2,2,6,6,2,2,2,6,6,6,2,2,2],\n",
        "                  [0,0,0,0,0,0,4,4,4,2,2,2,6,6,2,2,2,6,6,6,2,2,2],\n",
        "])\n",
        "\n",
        "\"\"\"\n",
        "Employee Present : analyse whether the employee is present yes or no on a given time\n",
        "Based on employee list of 3 (id, start time, duration)\n",
        "\"\"\"\n",
        "\n",
        "def employee_present(employee,time):\n",
        "    employee_start_time = employee[1]\n",
        "    employee_duration = employee[2]\n",
        "    employee_end_time = employee_start_time + employee_duration\n",
        "    if (time >= employee_start_time) and (time < employee_end_time):\n",
        "      return True\n",
        "    return False\n",
        "\n",
        "def staffplanning_to_hourlyplanning(staff_planning):\n",
        "\n",
        "    hourlystaff_week = []\n",
        "    for day in staff_planning:\n",
        "\n",
        "        hourlystaff_day = []\n",
        "        for employee in day:\n",
        "\n",
        "            employee_present_hour = []\n",
        "            for time in range(0,24):\n",
        "\n",
        "              employee_present_hour.append(employee_present(employee,time))\n",
        "\n",
        "            hourlystaff_day.append(employee_present_hour)\n",
        "\n",
        "          hourlystaff_week = np.array(hourlystaff_week).sum(axis = 1)\n",
        "          return hourlystaff_week\n",
        "\n",
        "\"\"\"\n",
        "\n",
        "File \"<ipython-input-2-eb10ce2e8c65>\", line 48\n",
        "    hourlystaff_week = np.array(hourlystaff_week).sum(axis = 1)\n",
        "                                                               ^\n",
        "IndentationError: unindent does not match any outer indentation level\n"
      ]
    }
  ]
}